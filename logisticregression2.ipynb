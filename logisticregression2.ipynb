{
 "cells": [
  {
   "cell_type": "markdown",
   "id": "db51d7e2",
   "metadata": {
    "toc": true
   },
   "source": [
    "<h1>Table of Contents<span class=\"tocSkip\"></span></h1>\n",
    "<div class=\"toc\"><ul class=\"toc-item\"><li><span><a href=\"#Load-data\" data-toc-modified-id=\"Load-data-1\"><span class=\"toc-item-num\">1&nbsp;&nbsp;</span>Load data</a></span></li><li><span><a href=\"#Split-data\" data-toc-modified-id=\"Split-data-2\"><span class=\"toc-item-num\">2&nbsp;&nbsp;</span>Split data</a></span></li><li><span><a href=\"#Train-data\" data-toc-modified-id=\"Train-data-3\"><span class=\"toc-item-num\">3&nbsp;&nbsp;</span>Train data</a></span></li><li><span><a href=\"#Intercept-&amp;-coefficient\" data-toc-modified-id=\"Intercept-&amp;-coefficient-4\"><span class=\"toc-item-num\">4&nbsp;&nbsp;</span>Intercept &amp; coefficient</a></span></li><li><span><a href=\"#Testing-the-model:-prediction\" data-toc-modified-id=\"Testing-the-model:-prediction-5\"><span class=\"toc-item-num\">5&nbsp;&nbsp;</span>Testing the model: prediction</a></span></li><li><span><a href=\"#Confusion-matrix\" data-toc-modified-id=\"Confusion-matrix-6\"><span class=\"toc-item-num\">6&nbsp;&nbsp;</span>Confusion matrix</a></span></li><li><span><a href=\"#Accuracy,-Precision,-Recall-&amp;-F1Score\" data-toc-modified-id=\"Accuracy,-Precision,-Recall-&amp;-F1Score-7\"><span class=\"toc-item-num\">7&nbsp;&nbsp;</span>Accuracy, Precision, Recall &amp; F1Score</a></span></li><li><span><a href=\"#Receiver-Operating-Characteristic-(ROC)-Curve\" data-toc-modified-id=\"Receiver-Operating-Characteristic-(ROC)-Curve-8\"><span class=\"toc-item-num\">8&nbsp;&nbsp;</span>Receiver Operating Characteristic (ROC) Curve</a></span><ul class=\"toc-item\"><li><span><a href=\"#Plotting-the-ROC-and-Finding-the-Area-Under-the-Curve-(AUC)\" data-toc-modified-id=\"Plotting-the-ROC-and-Finding-the-Area-Under-the-Curve-(AUC)-8.1\"><span class=\"toc-item-num\">8.1&nbsp;&nbsp;</span>Plotting the ROC and Finding the Area Under the Curve (AUC)</a></span></li></ul></li><li><span><a href=\"#Conclusion\" data-toc-modified-id=\"Conclusion-9\"><span class=\"toc-item-num\">9&nbsp;&nbsp;</span>Conclusion</a></span></li></ul></div>"
   ]
  },
  {
   "cell_type": "markdown",
   "id": "b78335b7",
   "metadata": {},
   "source": [
    "# Load data"
   ]
  },
  {
   "cell_type": "code",
   "execution_count": 2,
   "id": "71c3ccba",
   "metadata": {},
   "outputs": [],
   "source": [
    "from sklearn.datasets import load_breast_cancer\n",
    "cancer = load_breast_cancer()"
   ]
  },
  {
   "cell_type": "markdown",
   "id": "9b3942c1",
   "metadata": {},
   "source": [
    "#   Split data"
   ]
  },
  {
   "cell_type": "code",
   "execution_count": 4,
   "id": "61ee845f",
   "metadata": {},
   "outputs": [],
   "source": [
    "from sklearn.model_selection import train_test_split\n",
    "train_set, test_set, train_labels, test_labels = train_test_split(\n",
    "cancer.data, # features\n",
    "cancer.target, # labels\n",
    "test_size = 0.25, # split ratio\n",
    "random_state = 1, # set random seed\n",
    "stratify = cancer.target) # randomize based on labels\n"
   ]
  },
  {
   "cell_type": "markdown",
   "id": "03d9224a",
   "metadata": {},
   "source": [
    "# Train data"
   ]
  },
  {
   "cell_type": "code",
   "execution_count": 5,
   "id": "72c40f39",
   "metadata": {},
   "outputs": [
    {
     "name": "stderr",
     "output_type": "stream",
     "text": [
      "C:\\Users\\mirnamamaranda\\anaconda3\\lib\\site-packages\\sklearn\\linear_model\\_logistic.py:765: ConvergenceWarning: lbfgs failed to converge (status=1):\n",
      "STOP: TOTAL NO. of ITERATIONS REACHED LIMIT.\n",
      "\n",
      "Increase the number of iterations (max_iter) or scale the data as shown in:\n",
      "    https://scikit-learn.org/stable/modules/preprocessing.html\n",
      "Please also refer to the documentation for alternative solver options:\n",
      "    https://scikit-learn.org/stable/modules/linear_model.html#logistic-regression\n",
      "  extra_warning_msg=_LOGISTIC_SOLVER_CONVERGENCE_MSG)\n"
     ]
    },
    {
     "data": {
      "text/plain": [
       "LogisticRegression()"
      ]
     },
     "execution_count": 5,
     "metadata": {},
     "output_type": "execute_result"
    }
   ],
   "source": [
    "from sklearn import linear_model\n",
    "x = train_set[:,0:30] # all 30 features\n",
    "y = train_labels # 0: malignant, 1: benign\n",
    "log_regress = linear_model.LogisticRegression()\n",
    "log_regress.fit(X = x,\n",
    "y = y)"
   ]
  },
  {
   "cell_type": "markdown",
   "id": "ab5a5012",
   "metadata": {},
   "source": [
    "# Intercept & coefficient"
   ]
  },
  {
   "cell_type": "code",
   "execution_count": 6,
   "id": "8ad95529",
   "metadata": {},
   "outputs": [
    {
     "name": "stdout",
     "output_type": "stream",
     "text": [
      "[0.10454441]\n",
      "[[ 0.59396857  0.52535329  0.51420325 -0.03168248 -0.0164435  -0.09248078\n",
      "  -0.13107337 -0.0519281  -0.03020603 -0.00439707  0.02766815  0.14187445\n",
      "   0.0288671  -0.10828961 -0.00145443 -0.02181675 -0.02988913 -0.00695528\n",
      "  -0.00567133 -0.0020866   0.68780437 -0.57458147 -0.31409314 -0.00622161\n",
      "  -0.03322475 -0.31273276 -0.39371778 -0.1061693  -0.08981477 -0.02924339]]\n"
     ]
    }
   ],
   "source": [
    "print(log_regress.intercept_) \n",
    "print(log_regress.coef_)"
   ]
  },
  {
   "cell_type": "markdown",
   "id": "92f18b3f",
   "metadata": {},
   "source": [
    "# Testing the model: prediction"
   ]
  },
  {
   "cell_type": "code",
   "execution_count": 7,
   "id": "68a48664",
   "metadata": {},
   "outputs": [
    {
     "name": "stdout",
     "output_type": "stream",
     "text": [
      "   Malignant        Benign  Prediction  Original Result\n",
      "0   0.999819  1.806293e-04           0                0\n",
      "1   0.999681  3.188900e-04           0                0\n",
      "2   0.165953  8.340469e-01           1                1\n",
      "3   1.000000  7.170901e-09           0                0\n",
      "4   0.090603  9.093973e-01           1                0\n"
     ]
    }
   ],
   "source": [
    "import pandas as pd\n",
    "#get the predicted probablities and convert into a dataframe\n",
    "preds_prob = pd.DataFrame(log_regress.predict_proba(X=test_set))\n",
    "#assign column names to prediction\n",
    "preds_prob.columns = [\"Malignant\", \"Benign\"]\n",
    "#get the predicted class labels\n",
    "preds = log_regress.predict(X=test_set)\n",
    "preds_class = pd.DataFrame(preds)\n",
    "preds_class.columns = [\"Prediction\"]\n",
    "#actual diagnosis\n",
    "original_result = pd.DataFrame(test_labels)\n",
    "original_result.columns = [\"Original Result\"]\n",
    "#merge the three dataframes into one\n",
    "result = pd.concat([preds_prob, preds_class, original_result], axis=1)\n",
    "print(result.head())"
   ]
  },
  {
   "cell_type": "markdown",
   "id": "1ee76a0e",
   "metadata": {},
   "source": [
    "# Confusion matrix"
   ]
  },
  {
   "cell_type": "code",
   "execution_count": 8,
   "id": "a5973d4a",
   "metadata": {},
   "outputs": [
    {
     "name": "stdout",
     "output_type": "stream",
     "text": [
      "---Confusion Matrix---\n",
      "col_0   0   1\n",
      "row_0        \n",
      "0      48   4\n",
      "1       5  86\n"
     ]
    }
   ],
   "source": [
    "#generate table of predictions vs actual\n",
    "print(\"---Confusion Matrix---\")\n",
    "print(pd.crosstab(preds, test_labels))"
   ]
  },
  {
   "cell_type": "code",
   "execution_count": 9,
   "id": "4b9a7a4e",
   "metadata": {},
   "outputs": [
    {
     "name": "stdout",
     "output_type": "stream",
     "text": [
      "[[48  5]\n",
      " [ 4 86]]\n"
     ]
    }
   ],
   "source": [
    "from sklearn import metrics\n",
    "#view the confusion matrix using confusion_matrix() function\n",
    "print(metrics.confusion_matrix(y_true = test_labels, # True labels\n",
    "y_pred = preds)) # Predicted labels"
   ]
  },
  {
   "cell_type": "markdown",
   "id": "9202731f",
   "metadata": {},
   "source": [
    "# Accuracy, Precision, Recall & F1Score"
   ]
  },
  {
   "cell_type": "code",
   "execution_count": 10,
   "id": "0fb9d56e",
   "metadata": {},
   "outputs": [
    {
     "name": "stdout",
     "output_type": "stream",
     "text": [
      "---Accuracy---\n",
      "0.9370629370629371\n"
     ]
    }
   ],
   "source": [
    "# get the accuracy of the prediction\n",
    "print(\"---Accuracy---\")\n",
    "print(log_regress.score(X = test_set ,\n",
    "y = test_labels))"
   ]
  },
  {
   "cell_type": "code",
   "execution_count": 11,
   "id": "5a2e52a5",
   "metadata": {},
   "outputs": [
    {
     "name": "stdout",
     "output_type": "stream",
     "text": [
      "---Metrics---\n",
      "              precision    recall  f1-score   support\n",
      "\n",
      "           0       0.92      0.91      0.91        53\n",
      "           1       0.95      0.96      0.95        90\n",
      "\n",
      "    accuracy                           0.94       143\n",
      "   macro avg       0.93      0.93      0.93       143\n",
      "weighted avg       0.94      0.94      0.94       143\n",
      "\n"
     ]
    }
   ],
   "source": [
    "#Precision, recall, and F1-score\n",
    "#View summary of common classification metrics\n",
    "print(\"---Metrics---\")\n",
    "print(metrics.classification_report(\n",
    "y_true = test_labels,\n",
    "y_pred = preds))"
   ]
  },
  {
   "cell_type": "markdown",
   "id": "2657ac81",
   "metadata": {},
   "source": [
    "# Receiver Operating Characteristic (ROC) Curve"
   ]
  },
  {
   "cell_type": "markdown",
   "id": "bf2bbd09",
   "metadata": {},
   "source": [
    "## Plotting the ROC and Finding the Area Under the Curve (AUC)"
   ]
  },
  {
   "cell_type": "code",
   "execution_count": 14,
   "id": "c44dafe8",
   "metadata": {},
   "outputs": [
    {
     "data": {
      "image/png": "[encoded data removed]",
      "text/plain": [
       "<Figure size 432x288 with 1 Axes>"
      ]
     },
     "metadata": {
      "needs_background": "light"
     },
     "output_type": "display_data"
    }
   ],
   "source": [
    "import matplotlib.pyplot as plt\n",
    "from sklearn.metrics import roc_curve, auc, roc_auc_score\n",
    "from sklearn.metrics import roc_curve, auc\n",
    "\n",
    "#find the predicted probabilities using the test set\n",
    "probs = log_regress.predict_proba(test_set)\n",
    "preds = probs[:,1]\n",
    "\n",
    "#find the FPR, TPR, and threshold\n",
    "fpr, tpr, threshold = roc_curve(test_labels, preds)\n",
    "\n",
    "#find the area under the curve\n",
    "roc_auc = auc(fpr, tpr)\n",
    "\n",
    "\n",
    "plt.plot(fpr, tpr, 'b', label = 'AUC = %0.2f' % roc_auc)\n",
    "plt.plot([0, 1], [0, 1],'r--')\n",
    "plt.xlim([0, 1])\n",
    "plt.ylim([0, 1])\n",
    "plt.ylabel('True Positive Rate (TPR)')\n",
    "plt.xlabel('False Positive Rate (FPR)')\n",
    "plt.title('Receiver Operating Characteristic (ROC)')\n",
    "plt.legend(loc = 'lower right')\n",
    "plt.show()"
   ]
  },
  {
   "cell_type": "markdown",
   "id": "68dfc5e4",
   "metadata": {},
   "source": [
    "# Conclusion\n",
    "We have built a supervised machine learning algorithm- Logistic Regression based on breast cancer dataset. The logistic regression model accurately predict if tumor is benign or malignant with excellent performance ( good recall and precision metrics)."
   ]
  },
  {
   "cell_type": "code",
   "execution_count": null,
   "id": "aad8d536",
   "metadata": {},
   "outputs": [],
   "source": []
  }
 ],
 "metadata": {
  "kernelspec": {
   "display_name": "Python 3",
   "language": "python",
   "name": "python3"
  },
  "language_info": {
   "codemirror_mode": {
    "name": "ipython",
    "version": 3
   },
   "file_extension": ".py",
   "mimetype": "text/x-python",
   "name": "python",
   "nbconvert_exporter": "python",
   "pygments_lexer": "ipython3",
   "version": "3.7.6"
  },
  "toc": {
   "base_numbering": 1,
   "nav_menu": {},
   "number_sections": true,
   "sideBar": true,
   "skip_h1_title": false,
   "title_cell": "Table of Contents",
   "title_sidebar": "Contents",
   "toc_cell": true,
   "toc_position": {
    "height": "calc(100% - 180px)",
    "left": "10px",
    "top": "150px",
    "width": "165px"
   },
   "toc_section_display": true,
   "toc_window_display": false
  }
 },
 "nbformat": 4,
 "nbformat_minor": 5
}
